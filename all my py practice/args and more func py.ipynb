{
 "cells": [
  {
   "cell_type": "code",
   "execution_count": 30,
   "id": "444739b5",
   "metadata": {},
   "outputs": [],
   "source": [
    "def check(l, *args, **kwargs):\n",
    "    print(l)\n",
    "    for every in args:\n",
    "        print('args', every)\n",
    "    for every in kwargs:\n",
    "        print(every, kwargs[every]) \n",
    "        "
   ]
  },
  {
   "cell_type": "code",
   "execution_count": 31,
   "id": "a4fc93cd",
   "metadata": {},
   "outputs": [
    {
     "name": "stdout",
     "output_type": "stream",
     "text": [
      "2\n",
      "args 1\n",
      "args 2\n",
      "args 4\n",
      "name lamee\n",
      "age 20\n"
     ]
    }
   ],
   "source": [
    "check(2,  1, 2, 4, name=\"lamee\", age=20)"
   ]
  },
  {
   "cell_type": "code",
   "execution_count": 24,
   "id": "fb84e1ba",
   "metadata": {},
   "outputs": [],
   "source": [
    "def ck(l):\n",
    "    for every in range(l):\n",
    "        print(l)\n",
    "    "
   ]
  },
  {
   "cell_type": "code",
   "execution_count": 25,
   "id": "deed04c9",
   "metadata": {},
   "outputs": [
    {
     "name": "stdout",
     "output_type": "stream",
     "text": [
      "10\n",
      "10\n",
      "10\n",
      "10\n",
      "10\n",
      "10\n",
      "10\n",
      "10\n",
      "10\n",
      "10\n"
     ]
    }
   ],
   "source": [
    "ck(10)"
   ]
  },
  {
   "cell_type": "code",
   "execution_count": 40,
   "id": "60a9ec30",
   "metadata": {},
   "outputs": [],
   "source": [
    "#going to factorial of 5 using multiplication.\n",
    "def fact(n):\n",
    "    if n == 1:\n",
    "        f = 1\n",
    "        print('here the result is', f)\n",
    "    else:\n",
    "        print('at this point n=', n)\n",
    "        f = n * fact(n-1)\n",
    "        print('the result here f=',f)\n",
    "    return f"
   ]
  },
  {
   "cell_type": "code",
   "execution_count": 41,
   "id": "00e5b65b",
   "metadata": {},
   "outputs": [
    {
     "name": "stdout",
     "output_type": "stream",
     "text": [
      "at this point n= 5\n",
      "at this point n= 4\n",
      "at this point n= 3\n",
      "at this point n= 2\n",
      "here the result is 1\n",
      "the result here f= 2\n",
      "the result here f= 6\n",
      "the result here f= 24\n",
      "the result here f= 120\n"
     ]
    },
    {
     "data": {
      "text/plain": [
       "120"
      ]
     },
     "execution_count": 41,
     "metadata": {},
     "output_type": "execute_result"
    }
   ],
   "source": [
    "fact(5)"
   ]
  },
  {
   "cell_type": "code",
   "execution_count": 47,
   "id": "11c13528",
   "metadata": {},
   "outputs": [],
   "source": [
    "#going to factorial of 5 using addition.\n",
    "def fact(n):\n",
    "    if n == 1:\n",
    "        f = 1\n",
    "        print('here the result is', f)\n",
    "    else:\n",
    "        print('at this point n=', n)\n",
    "        f = n + fact(n-1)\n",
    "        print('the result here f=',f)\n",
    "    return f"
   ]
  },
  {
   "cell_type": "code",
   "execution_count": 48,
   "id": "2fbaae16",
   "metadata": {},
   "outputs": [
    {
     "name": "stdout",
     "output_type": "stream",
     "text": [
      "at this point n= 5\n",
      "at this point n= 4\n",
      "at this point n= 3\n",
      "at this point n= 2\n",
      "here the result is 1\n",
      "the result here f= 3\n",
      "the result here f= 6\n",
      "the result here f= 10\n",
      "the result here f= 15\n"
     ]
    },
    {
     "data": {
      "text/plain": [
       "15"
      ]
     },
     "execution_count": 48,
     "metadata": {},
     "output_type": "execute_result"
    }
   ],
   "source": [
    "fact(5)"
   ]
  },
  {
   "cell_type": "code",
   "execution_count": 70,
   "id": "d509a0d2",
   "metadata": {},
   "outputs": [],
   "source": [
    "def funny(name, state):\n",
    "    print(f' surname: {name}, where: {state}')"
   ]
  },
  {
   "cell_type": "code",
   "execution_count": 71,
   "id": "0d6400a6",
   "metadata": {},
   "outputs": [
    {
     "name": "stdout",
     "output_type": "stream",
     "text": [
      " surname: salami, where: lagos\n"
     ]
    }
   ],
   "source": [
    "funny('salami', 'lagos')"
   ]
  },
  {
   "cell_type": "code",
   "execution_count": 131,
   "id": "b788a8b6",
   "metadata": {},
   "outputs": [],
   "source": [
    "#making *args list without using args in a function\n",
    "def any(a, b, c, d):\n",
    "    return a + b + c + d\n"
   ]
  },
  {
   "cell_type": "code",
   "execution_count": 132,
   "id": "90e1e992",
   "metadata": {},
   "outputs": [
    {
     "data": {
      "text/plain": [
       "10"
      ]
     },
     "execution_count": 132,
     "metadata": {},
     "output_type": "execute_result"
    }
   ],
   "source": [
    "#since this is a list function, we can do this to generalize all, cause in a case we have so many values for our parameters\n",
    "lista = [1, 2, 3, 4]\n",
    "any(*lista)"
   ]
  },
  {
   "cell_type": "code",
   "execution_count": 138,
   "id": "922ea924",
   "metadata": {},
   "outputs": [],
   "source": [
    "#making **args dict without using args in a function\n",
    "def so(det, info, enq):\n",
    "    return det, info, enq"
   ]
  },
  {
   "cell_type": "code",
   "execution_count": 140,
   "id": "d569dab0",
   "metadata": {},
   "outputs": [
    {
     "data": {
      "text/plain": [
       "('salam', 25, 'female')"
      ]
     },
     "execution_count": 140,
     "metadata": {},
     "output_type": "execute_result"
    }
   ],
   "source": [
    "dictee = {\"det\": \"salam\", \"info\": 25, \"enq\": \"female\"}\n",
    "so(**dictee)"
   ]
  },
  {
   "cell_type": "code",
   "execution_count": null,
   "id": "a801a689",
   "metadata": {},
   "outputs": [],
   "source": []
  },
  {
   "cell_type": "code",
   "execution_count": 125,
   "id": "72177bc9",
   "metadata": {},
   "outputs": [],
   "source": [
    "#function in functiom\n",
    "def some_sum(a, b, c):\n",
    "    return a + b + c \n",
    " "
   ]
  },
  {
   "cell_type": "code",
   "execution_count": 128,
   "id": "784b2ebf",
   "metadata": {},
   "outputs": [],
   "source": [
    "def square_sum(a, b, c):\n",
    "    sumee = some_sum(a, b, c)\n",
    "    return (sumee) ** 2"
   ]
  },
  {
   "cell_type": "code",
   "execution_count": 129,
   "id": "b3f46970",
   "metadata": {},
   "outputs": [
    {
     "data": {
      "text/plain": [
       "81"
      ]
     },
     "execution_count": 129,
     "metadata": {},
     "output_type": "execute_result"
    }
   ],
   "source": [
    "square_sum(1, 4, 4)"
   ]
  },
  {
   "cell_type": "code",
   "execution_count": null,
   "id": "4c30563b",
   "metadata": {},
   "outputs": [],
   "source": []
  },
  {
   "cell_type": "code",
   "execution_count": 91,
   "id": "3d2c8e95",
   "metadata": {},
   "outputs": [],
   "source": [
    "##cannt use sum with str\n",
    "def cef(g, e, f):\n",
    "    return g + e + f"
   ]
  },
  {
   "cell_type": "code",
   "execution_count": 93,
   "id": "cabb6432",
   "metadata": {},
   "outputs": [
    {
     "data": {
      "text/plain": [
       "6"
      ]
     },
     "execution_count": 93,
     "metadata": {},
     "output_type": "execute_result"
    }
   ],
   "source": [
    "cef(1, 2, 3)"
   ]
  },
  {
   "cell_type": "code",
   "execution_count": null,
   "id": "c7b11b7b",
   "metadata": {},
   "outputs": [],
   "source": []
  }
 ],
 "metadata": {
  "kernelspec": {
   "display_name": "Python 3 (ipykernel)",
   "language": "python",
   "name": "python3"
  },
  "language_info": {
   "codemirror_mode": {
    "name": "ipython",
    "version": 3
   },
   "file_extension": ".py",
   "mimetype": "text/x-python",
   "name": "python",
   "nbconvert_exporter": "python",
   "pygments_lexer": "ipython3",
   "version": "3.9.13"
  }
 },
 "nbformat": 4,
 "nbformat_minor": 5
}
