{
 "cells": [
  {
   "cell_type": "code",
   "execution_count": 3,
   "id": "9b9b088d",
   "metadata": {},
   "outputs": [],
   "source": [
    "S = {'name': \"Salami\", \"age\": 20, \"gender\": \"female\"}"
   ]
  },
  {
   "cell_type": "code",
   "execution_count": 4,
   "id": "4cc6f742",
   "metadata": {},
   "outputs": [
    {
     "data": {
      "text/plain": [
       "{'name': 'Salami', 'age': 20, 'gender': 'female'}"
      ]
     },
     "execution_count": 4,
     "metadata": {},
     "output_type": "execute_result"
    }
   ],
   "source": [
    "S"
   ]
  },
  {
   "cell_type": "code",
   "execution_count": 43,
   "id": "06bf4242",
   "metadata": {},
   "outputs": [],
   "source": [
    "O = dict(((\"name\", \"salami\"), (\"age\", 20), (\"gender\", \"female\")))"
   ]
  },
  {
   "cell_type": "code",
   "execution_count": 54,
   "id": "cd3ecb98",
   "metadata": {},
   "outputs": [
    {
     "data": {
      "text/plain": [
       "{'name': 'salami', 'age': 20, 'gender': 'female'}"
      ]
     },
     "execution_count": 54,
     "metadata": {},
     "output_type": "execute_result"
    }
   ],
   "source": [
    "O"
   ]
  },
  {
   "cell_type": "code",
   "execution_count": 55,
   "id": "860b8931",
   "metadata": {},
   "outputs": [],
   "source": [
    "c = dict(name = \"salami\", age = 20, gender = \"female\")"
   ]
  },
  {
   "cell_type": "code",
   "execution_count": 56,
   "id": "8c723401",
   "metadata": {},
   "outputs": [
    {
     "data": {
      "text/plain": [
       "{'name': 'salami', 'age': 20, 'gender': 'female'}"
      ]
     },
     "execution_count": 56,
     "metadata": {},
     "output_type": "execute_result"
    }
   ],
   "source": [
    "c"
   ]
  },
  {
   "cell_type": "code",
   "execution_count": 57,
   "id": "0cd00ce5",
   "metadata": {},
   "outputs": [
    {
     "data": {
      "text/plain": [
       "dict"
      ]
     },
     "execution_count": 57,
     "metadata": {},
     "output_type": "execute_result"
    }
   ],
   "source": [
    "type(c)"
   ]
  },
  {
   "cell_type": "code",
   "execution_count": 58,
   "id": "eebc371d",
   "metadata": {},
   "outputs": [
    {
     "data": {
      "text/plain": [
       "'Salami'"
      ]
     },
     "execution_count": 58,
     "metadata": {},
     "output_type": "execute_result"
    }
   ],
   "source": [
    "S[\"name\"]"
   ]
  },
  {
   "cell_type": "code",
   "execution_count": 59,
   "id": "d7cad6d9",
   "metadata": {},
   "outputs": [
    {
     "data": {
      "text/plain": [
       "dict_values(['Salami', 20, 'female'])"
      ]
     },
     "execution_count": 59,
     "metadata": {},
     "output_type": "execute_result"
    }
   ],
   "source": [
    "S.values()"
   ]
  },
  {
   "cell_type": "code",
   "execution_count": 60,
   "id": "c1c6ee05",
   "metadata": {},
   "outputs": [],
   "source": [
    "c.update({\"name\": \"salam\"})  "
   ]
  },
  {
   "cell_type": "code",
   "execution_count": 61,
   "id": "9c6f5c61",
   "metadata": {},
   "outputs": [
    {
     "data": {
      "text/plain": [
       "{'name': 'salam', 'age': 20, 'gender': 'female'}"
      ]
     },
     "execution_count": 61,
     "metadata": {},
     "output_type": "execute_result"
    }
   ],
   "source": [
    "c"
   ]
  },
  {
   "cell_type": "code",
   "execution_count": 62,
   "id": "eaef7449",
   "metadata": {},
   "outputs": [],
   "source": [
    "so = O.copy()"
   ]
  },
  {
   "cell_type": "code",
   "execution_count": 63,
   "id": "bc42f640",
   "metadata": {},
   "outputs": [
    {
     "data": {
      "text/plain": [
       "{'name': 'salami', 'age': 20, 'gender': 'female'}"
      ]
     },
     "execution_count": 63,
     "metadata": {},
     "output_type": "execute_result"
    }
   ],
   "source": [
    "so"
   ]
  },
  {
   "cell_type": "code",
   "execution_count": 64,
   "id": "ebcb56da",
   "metadata": {},
   "outputs": [],
   "source": [
    "so.clear()"
   ]
  },
  {
   "cell_type": "code",
   "execution_count": 65,
   "id": "a61f3709",
   "metadata": {},
   "outputs": [
    {
     "data": {
      "text/plain": [
       "{}"
      ]
     },
     "execution_count": 65,
     "metadata": {},
     "output_type": "execute_result"
    }
   ],
   "source": [
    "so"
   ]
  },
  {
   "cell_type": "code",
   "execution_count": 71,
   "id": "79ce659d",
   "metadata": {},
   "outputs": [
    {
     "data": {
      "text/plain": [
       "'salam'"
      ]
     },
     "execution_count": 71,
     "metadata": {},
     "output_type": "execute_result"
    }
   ],
   "source": [
    "c.get(\"name\")"
   ]
  },
  {
   "cell_type": "code",
   "execution_count": 72,
   "id": "f0d7d0a1",
   "metadata": {},
   "outputs": [
    {
     "data": {
      "text/plain": [
       "'female'"
      ]
     },
     "execution_count": 72,
     "metadata": {},
     "output_type": "execute_result"
    }
   ],
   "source": [
    "c.pop(\"gender\")"
   ]
  },
  {
   "cell_type": "code",
   "execution_count": 73,
   "id": "bc6244f8",
   "metadata": {},
   "outputs": [
    {
     "data": {
      "text/plain": [
       "{'name': 'salam', 'age': 20}"
      ]
     },
     "execution_count": 73,
     "metadata": {},
     "output_type": "execute_result"
    }
   ],
   "source": [
    "c"
   ]
  },
  {
   "cell_type": "code",
   "execution_count": 75,
   "id": "b4571ba9",
   "metadata": {},
   "outputs": [
    {
     "data": {
      "text/plain": [
       "('age', 20)"
      ]
     },
     "execution_count": 75,
     "metadata": {},
     "output_type": "execute_result"
    }
   ],
   "source": [
    "c.popitem()"
   ]
  },
  {
   "cell_type": "code",
   "execution_count": 76,
   "id": "0d99869e",
   "metadata": {},
   "outputs": [
    {
     "data": {
      "text/plain": [
       "{'name': 'salam'}"
      ]
     },
     "execution_count": 76,
     "metadata": {},
     "output_type": "execute_result"
    }
   ],
   "source": [
    "c"
   ]
  },
  {
   "cell_type": "code",
   "execution_count": 77,
   "id": "2d474275",
   "metadata": {},
   "outputs": [
    {
     "data": {
      "text/plain": [
       "3"
      ]
     },
     "execution_count": 77,
     "metadata": {},
     "output_type": "execute_result"
    }
   ],
   "source": [
    "len(S)"
   ]
  },
  {
   "cell_type": "code",
   "execution_count": 84,
   "id": "7040b4ba",
   "metadata": {},
   "outputs": [
    {
     "ename": "NameError",
     "evalue": "name 'S' is not defined",
     "output_type": "error",
     "traceback": [
      "\u001b[1;31m---------------------------------------------------------------------------\u001b[0m",
      "\u001b[1;31mNameError\u001b[0m                                 Traceback (most recent call last)",
      "\u001b[1;32m~\\AppData\\Local\\Temp\\ipykernel_12424\\2681929231.py\u001b[0m in \u001b[0;36m<module>\u001b[1;34m\u001b[0m\n\u001b[1;32m----> 1\u001b[1;33m \u001b[1;32mdel\u001b[0m\u001b[1;33m(\u001b[0m\u001b[0mS\u001b[0m\u001b[1;33m)\u001b[0m\u001b[1;33m\u001b[0m\u001b[1;33m\u001b[0m\u001b[0m\n\u001b[0m",
      "\u001b[1;31mNameError\u001b[0m: name 'S' is not defined"
     ]
    }
   ],
   "source": [
    "del(S)"
   ]
  },
  {
   "cell_type": "code",
   "execution_count": 87,
   "id": "a96b7a87",
   "metadata": {},
   "outputs": [
    {
     "data": {
      "text/plain": [
       "['name', 'age', 'gender']"
      ]
     },
     "execution_count": 87,
     "metadata": {},
     "output_type": "execute_result"
    }
   ],
   "source": [
    "list(O.keys())"
   ]
  },
  {
   "cell_type": "code",
   "execution_count": 88,
   "id": "4eb6be77",
   "metadata": {},
   "outputs": [
    {
     "data": {
      "text/plain": [
       "'salami'"
      ]
     },
     "execution_count": 88,
     "metadata": {},
     "output_type": "execute_result"
    }
   ],
   "source": [
    "O.get(\"name\")"
   ]
  },
  {
   "cell_type": "code",
   "execution_count": 93,
   "id": "78681f33",
   "metadata": {},
   "outputs": [],
   "source": [
    "X = {every: \"hello \" + str(every) for every in range(4)}"
   ]
  },
  {
   "cell_type": "code",
   "execution_count": 94,
   "id": "b14a1dc9",
   "metadata": {},
   "outputs": [
    {
     "data": {
      "text/plain": [
       "{0: 'hello 0', 1: 'hello 1', 2: 'hello 2', 3: 'hello 3'}"
      ]
     },
     "execution_count": 94,
     "metadata": {},
     "output_type": "execute_result"
    }
   ],
   "source": [
    "X"
   ]
  },
  {
   "cell_type": "code",
   "execution_count": 105,
   "id": "8c3ee8a7",
   "metadata": {},
   "outputs": [
    {
     "data": {
      "text/plain": [
       "{0: 'hello girl 0', 1: 'hello girl 1', 2: 'hello girl 2', 3: 'hello girl 3'}"
      ]
     },
     "execution_count": 105,
     "metadata": {},
     "output_type": "execute_result"
    }
   ],
   "source": [
    "Q ={every: \"hello girl \" + str(every) for every in range(4)} \n",
    "Q"
   ]
  },
  {
   "cell_type": "code",
   "execution_count": 111,
   "id": "75ef073b",
   "metadata": {},
   "outputs": [],
   "source": [
    "Y = {K: v for (K, v) in zip([1, 2, 3], [\"a\", \"b\", \"c\"])}"
   ]
  },
  {
   "cell_type": "code",
   "execution_count": 112,
   "id": "63c12f26",
   "metadata": {},
   "outputs": [
    {
     "data": {
      "text/plain": [
       "{1: 'a', 2: 'b', 3: 'c'}"
      ]
     },
     "execution_count": 112,
     "metadata": {},
     "output_type": "execute_result"
    }
   ],
   "source": [
    "Y"
   ]
  },
  {
   "cell_type": "code",
   "execution_count": 114,
   "id": "4bfc7d0c",
   "metadata": {},
   "outputs": [],
   "source": [
    "F = {s:t for (s, t) in zip([4,5,6], [\"d\",\"f\",\"e\"])}"
   ]
  },
  {
   "cell_type": "code",
   "execution_count": 115,
   "id": "55d071a6",
   "metadata": {},
   "outputs": [
    {
     "data": {
      "text/plain": [
       "{4: 'd', 5: 'f', 6: 'e'}"
      ]
     },
     "execution_count": 115,
     "metadata": {},
     "output_type": "execute_result"
    }
   ],
   "source": [
    "F"
   ]
  },
  {
   "cell_type": "code",
   "execution_count": 116,
   "id": "e2c2f8b6",
   "metadata": {},
   "outputs": [],
   "source": [
    "B = {k:v for (k, v) in zip([\"mall\", \"street\", \"number\"], [\"heritage\", \"dugbe_str\", \"H18\"])}"
   ]
  },
  {
   "cell_type": "code",
   "execution_count": 117,
   "id": "a21c0c3b",
   "metadata": {},
   "outputs": [
    {
     "data": {
      "text/plain": [
       "{'mall': 'heritage', 'street': 'dugbe_str', 'number': 'H18'}"
      ]
     },
     "execution_count": 117,
     "metadata": {},
     "output_type": "execute_result"
    }
   ],
   "source": [
    " B"
   ]
  },
  {
   "cell_type": "code",
   "execution_count": 118,
   "id": "9ffb84c1",
   "metadata": {},
   "outputs": [
    {
     "data": {
      "text/plain": [
       "'street'"
      ]
     },
     "execution_count": 118,
     "metadata": {},
     "output_type": "execute_result"
    }
   ],
   "source": [
    "list(B)[1]"
   ]
  },
  {
   "cell_type": "code",
   "execution_count": 122,
   "id": "b4b6acfb",
   "metadata": {},
   "outputs": [
    {
     "data": {
      "text/plain": [
       "dict_values(['heritage', 'dugbe_str', 'H18'])"
      ]
     },
     "execution_count": 122,
     "metadata": {},
     "output_type": "execute_result"
    }
   ],
   "source": [
    "B.values()"
   ]
  },
  {
   "cell_type": "code",
   "execution_count": 125,
   "id": "a21851ea",
   "metadata": {},
   "outputs": [
    {
     "data": {
      "text/plain": [
       "'dugbe_str'"
      ]
     },
     "execution_count": 125,
     "metadata": {},
     "output_type": "execute_result"
    }
   ],
   "source": [
    "B[\"street\"]"
   ]
  },
  {
   "cell_type": "code",
   "execution_count": 126,
   "id": "b4808e28",
   "metadata": {},
   "outputs": [],
   "source": [
    "H = [\"mall\", \"street\", \"number\"]\n",
    "R = {k:v for (k, v) in zip(H, [\"shoprite\", \"ringroad\", \"R10\"])}"
   ]
  },
  {
   "cell_type": "code",
   "execution_count": 127,
   "id": "60512997",
   "metadata": {},
   "outputs": [
    {
     "data": {
      "text/plain": [
       "{'mall': 'shoprite', 'street': 'ringroad', 'number': 'R10'}"
      ]
     },
     "execution_count": 127,
     "metadata": {},
     "output_type": "execute_result"
    }
   ],
   "source": [
    "R"
   ]
  },
  {
   "cell_type": "code",
   "execution_count": 130,
   "id": "28ec3b7e",
   "metadata": {},
   "outputs": [],
   "source": [
    "new_mode = {\"mall_1\": R, \"shop_size\": \"200 sqm\"}\n"
   ]
  },
  {
   "cell_type": "code",
   "execution_count": 131,
   "id": "e4df65a4",
   "metadata": {},
   "outputs": [
    {
     "data": {
      "text/plain": [
       "{'mall_1': {'mall': 'shoprite', 'street': 'ringroad', 'number': 'R10'},\n",
       " 'shop_size': '200 sqm'}"
      ]
     },
     "execution_count": 131,
     "metadata": {},
     "output_type": "execute_result"
    }
   ],
   "source": [
    "new_mode"
   ]
  },
  {
   "cell_type": "code",
   "execution_count": 133,
   "id": "89478c44",
   "metadata": {},
   "outputs": [
    {
     "data": {
      "text/plain": [
       "'ringroad'"
      ]
     },
     "execution_count": 133,
     "metadata": {},
     "output_type": "execute_result"
    }
   ],
   "source": [
    "new_mode[\"mall_1\"][\"street\"]"
   ]
  },
  {
   "cell_type": "code",
   "execution_count": 134,
   "id": "8564248d",
   "metadata": {},
   "outputs": [
    {
     "data": {
      "text/plain": [
       "dict_items([('mall', 'shoprite'), ('street', 'ringroad'), ('number', 'R10')])"
      ]
     },
     "execution_count": 134,
     "metadata": {},
     "output_type": "execute_result"
    }
   ],
   "source": [
    "new_mode[\"mall_1\"].items()"
   ]
  },
  {
   "cell_type": "code",
   "execution_count": 140,
   "id": "f1ac0d49",
   "metadata": {},
   "outputs": [
    {
     "name": "stdout",
     "output_type": "stream",
     "text": [
      "['a', 1, 'b', 2, 'c', 3]\n"
     ]
    }
   ],
   "source": [
    "make = [everything for every in zip([\"a\", \"b\", \"c\"], [1, 2, 3, 4, 5]) for everything in every]\n",
    "print(make)"
   ]
  },
  {
   "cell_type": "code",
   "execution_count": null,
   "id": "4cc78853",
   "metadata": {},
   "outputs": [],
   "source": []
  }
 ],
 "metadata": {
  "kernelspec": {
   "display_name": "Python 3 (ipykernel)",
   "language": "python",
   "name": "python3"
  },
  "language_info": {
   "codemirror_mode": {
    "name": "ipython",
    "version": 3
   },
   "file_extension": ".py",
   "mimetype": "text/x-python",
   "name": "python",
   "nbconvert_exporter": "python",
   "pygments_lexer": "ipython3",
   "version": "3.9.13"
  }
 },
 "nbformat": 4,
 "nbformat_minor": 5
}
