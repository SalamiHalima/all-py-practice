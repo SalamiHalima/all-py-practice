{
 "cells": [
  {
   "cell_type": "code",
   "execution_count": 3,
   "id": "9db361db",
   "metadata": {},
   "outputs": [
    {
     "name": "stdout",
     "output_type": "stream",
     "text": [
      "Enter guess: toye\n",
      "Enter guess: tola\n",
      "Enter guess: lamee\n",
      "you win!\n"
     ]
    }
   ],
   "source": [
    "secret_num = 'lamee'\n",
    "guess = input(\"Enter guess: \")\n",
    "guess_time = 0\n",
    "guess_limit = 3\n",
    "out_of_guess = False\n",
    "\n",
    "while guess != secret_num and not(out_of_guess):\n",
    "    if guess_time < guess_limit:\n",
    "        guess = input(\"Enter guess: \")\n",
    "        guess_time += 1\n",
    "    else:\n",
    "        out_of_guess = True\n",
    "    \n",
    "if out_of_guess:\n",
    "    print(\"you lose!\")\n",
    "else:\n",
    "    print(\"you win!\")"
   ]
  },
  {
   "cell_type": "code",
   "execution_count": 4,
   "id": "fba3ec64",
   "metadata": {},
   "outputs": [
    {
     "name": "stdout",
     "output_type": "stream",
     "text": [
      "Enter guess: rey\n",
      "Enter guess: shayo\n",
      "Enter guess: tola\n",
      "Enter guess: baj\n",
      "you lose!\n"
     ]
    }
   ],
   "source": [
    "secret_num = 'lamee'\n",
    "guess = input(\"Enter guess: \")\n",
    "guess_time = 0\n",
    "guess_limit = 3\n",
    "out_of_guess = False\n",
    "\n",
    "while guess != secret_num and not(out_of_guess):\n",
    "    if guess_time < guess_limit:\n",
    "        guess = input(\"Enter guess: \")\n",
    "        guess_time += 1\n",
    "    else:\n",
    "        out_of_guess = True\n",
    "    \n",
    "if out_of_guess:\n",
    "    print(\"you lose!\")\n",
    "else:\n",
    "    print(\"you win!\")"
   ]
  },
  {
   "cell_type": "code",
   "execution_count": 5,
   "id": "0e95a770",
   "metadata": {},
   "outputs": [
    {
     "name": "stdout",
     "output_type": "stream",
     "text": [
      "Enter guess: tit\n",
      "Enter guess: fola,i\n",
      "Enter guess: toye\n",
      "Enter guess: lamee\n",
      "you win!\n"
     ]
    }
   ],
   "source": [
    "secret_num = 'lamee'\n",
    "guess = input(\"Enter guess: \")\n",
    "guess_time = 0\n",
    "guess_limit = 3\n",
    "out_of_guess = False\n",
    "\n",
    "while guess != secret_num and not(out_of_guess):\n",
    "    if guess_time =< guess_limit:\n",
    "        guess = input(\"Enter guess: \")\n",
    "        guess_time += 1\n",
    "    else:\n",
    "        out_of_guess = True\n",
    "    \n",
    "if out_of_guess:\n",
    "    print(\"you lose!\")\n",
    "else:\n",
    "    print(\"you win!\")"
   ]
  },
  {
   "cell_type": "code",
   "execution_count": 7,
   "id": "dc2f1eca",
   "metadata": {},
   "outputs": [
    {
     "name": "stdout",
     "output_type": "stream",
     "text": [
      "Enter guess: rey\n",
      "Enter guess: sou\n",
      "Enter guess: larry\n",
      "Enter guess: layo\n",
      "Enter guess: titit\n",
      "you lose!\n"
     ]
    }
   ],
   "source": [
    "secret_num = 'lamee'\n",
    "guess = input(\"Enter guess: \")\n",
    "guess_time = 0\n",
    "guess_limit = 3\n",
    "out_of_guess = False\n",
    "\n",
    "while guess != secret_num and not(out_of_guess):\n",
    "    if guess_time <= guess_limit:\n",
    "        guess = input(\"Enter guess: \")\n",
    "        guess_time += 1\n",
    "    else:\n",
    "        out_of_guess = True\n",
    "    \n",
    "if out_of_guess:\n",
    "    print(\"you lose!\")\n",
    "else:\n",
    "    print(\"you win!\")"
   ]
  },
  {
   "cell_type": "code",
   "execution_count": 9,
   "id": "0d577271",
   "metadata": {},
   "outputs": [
    {
     "name": "stdout",
     "output_type": "stream",
     "text": [
      "Enter guess: rey\n",
      "Enter guess: lamee\n",
      "you win!\n"
     ]
    }
   ],
   "source": [
    "secret_num = 'lamee'\n",
    "guess = input(\"Enter guess: \")\n",
    "guess_time = 0\n",
    "guess_limit = 3\n",
    "out_of_guess = False\n",
    "\n",
    "while guess != secret_num and not(out_of_guess):\n",
    "    if guess_time <= guess_limit:\n",
    "        guess = input(\"Enter guess: \")\n",
    "        guess_time += 1\n",
    "    else:\n",
    "        out_of_guess = True\n",
    "    \n",
    "if out_of_guess:\n",
    "    print(\"you lose!\")\n",
    "else:\n",
    "    print(\"you win!\")"
   ]
  },
  {
   "cell_type": "code",
   "execution_count": 13,
   "id": "4d7dc1aa",
   "metadata": {},
   "outputs": [
    {
     "name": "stdout",
     "output_type": "stream",
     "text": [
      "enter guess: irhlks\n",
      "enter guess: oesdmnx\n",
      "enter guess: oasjmkdx\n",
      "enter guess: kqwasklx\n",
      "enter guess: lwqkpire\n",
      "you lose!\n"
     ]
    }
   ],
   "source": [
    "#### guessing game\n",
    "secret_word = \"line\"\n",
    "guess = input(\"enter guess: \")\n",
    "guess_count = 0\n",
    "guess_limit = 4\n",
    "out_of_count = False\n",
    "\n",
    "while guess != secret_word and not(out_of_count):\n",
    "    if guess_count < guess_limit:\n",
    "        guess = input(\"enter guess: \")\n",
    "        guess_count += 1\n",
    "    else: \n",
    "        out_of_count = True\n",
    "\n",
    "if out_of_count:\n",
    "    print(\"you lose!\")\n",
    "else:\n",
    "    print(\"you win!\")"
   ]
  },
  {
   "cell_type": "code",
   "execution_count": 14,
   "id": "419ff1d6",
   "metadata": {},
   "outputs": [
    {
     "name": "stdout",
     "output_type": "stream",
     "text": [
      "enter guess: sudhjnfm\n",
      "enter guess: [pwkedkm\n",
      "enter guess: line\n",
      "you win!\n"
     ]
    }
   ],
   "source": [
    "#### guessing game\n",
    "secret_word = \"line\"\n",
    "guess = input(\"enter guess: \")\n",
    "guess_count = 0\n",
    "guess_limit = 4\n",
    "out_of_count = False\n",
    "\n",
    "while guess != secret_word and not(out_of_count):\n",
    "    if guess_count < guess_limit:\n",
    "        guess = input(\"enter guess: \")\n",
    "        guess_count += 1\n",
    "    else: \n",
    "        out_of_count = True\n",
    "\n",
    "if out_of_count:\n",
    "    print(\"you lose!\")\n",
    "else:\n",
    "    print(\"you win!\")"
   ]
  },
  {
   "cell_type": "code",
   "execution_count": 15,
   "id": "914956da",
   "metadata": {},
   "outputs": [
    {
     "name": "stdout",
     "output_type": "stream",
     "text": [
      "enter guess: lejdskhwe\n",
      "enter guess: pref.\n",
      "enter guess: elmdl\n",
      "enter guess: orwkmsd,\n",
      "enter guess: priejiekerjli\n",
      "you lose!\n"
     ]
    }
   ],
   "source": [
    "#### guessing game\n",
    "secret_word = \"line\"\n",
    "guess = input(\"enter guess: \")\n",
    "guess_count = 0\n",
    "guess_limit = 4\n",
    "out_of_count = False\n",
    "\n",
    "while guess != secret_word and not(out_of_count):\n",
    "    if guess_count < guess_limit:\n",
    "        guess = input(\"enter guess: \")\n",
    "        guess_count += 1\n",
    "    else: \n",
    "        out_of_count = True\n",
    "\n",
    "if out_of_count:\n",
    "    print(\"you lose!\")\n",
    "else:\n",
    "    print(\"you win!\")"
   ]
  },
  {
   "cell_type": "raw",
   "id": "4ba08711",
   "metadata": {},
   "source": []
  }
 ],
 "metadata": {
  "kernelspec": {
   "display_name": "Python 3 (ipykernel)",
   "language": "python",
   "name": "python3"
  },
  "language_info": {
   "codemirror_mode": {
    "name": "ipython",
    "version": 3
   },
   "file_extension": ".py",
   "mimetype": "text/x-python",
   "name": "python",
   "nbconvert_exporter": "python",
   "pygments_lexer": "ipython3",
   "version": "3.9.13"
  }
 },
 "nbformat": 4,
 "nbformat_minor": 5
}
