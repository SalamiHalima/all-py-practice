{
 "cells": [
  {
   "cell_type": "markdown",
   "id": "477c6277",
   "metadata": {},
   "source": []
  },
  {
   "cell_type": "code",
   "execution_count": 27,
   "id": "bbaab155",
   "metadata": {},
   "outputs": [],
   "source": [
    "def personality(name, city):\n",
    "    print(f' my name is {name} and from a city called {city}')\n",
    "    print(f' you can call me {name} cat')\n",
    "    return 'her name is {name} from the city of {city}'"
   ]
  },
  {
   "cell_type": "code",
   "execution_count": 28,
   "id": "5c23d1d0",
   "metadata": {},
   "outputs": [
    {
     "name": "stdout",
     "output_type": "stream",
     "text": [
      " my name is lamee and from a city called lagos\n",
      " you can call me lamee cat\n"
     ]
    }
   ],
   "source": [
    "p = personality(\"lamee\", \"lagos\")"
   ]
  },
  {
   "cell_type": "code",
   "execution_count": 29,
   "id": "e82a2b08",
   "metadata": {},
   "outputs": [
    {
     "data": {
      "text/plain": [
       "'her name is {name} from the city of {city}'"
      ]
     },
     "execution_count": 29,
     "metadata": {},
     "output_type": "execute_result"
    }
   ],
   "source": [
    "p"
   ]
  },
  {
   "cell_type": "code",
   "execution_count": 57,
   "id": "6cea5ace",
   "metadata": {},
   "outputs": [],
   "source": [
    "#name = \"lamee\"\n",
    "#city = \"lagos\"\n",
    "def new_function(name, city):\n",
    "    var_plus = name  +  city\n",
    "    print(var_plus)\n",
    "    return var_plus                 \n"
   ]
  },
  {
   "cell_type": "code",
   "execution_count": 58,
   "id": "4cb49112",
   "metadata": {},
   "outputs": [
    {
     "name": "stdout",
     "output_type": "stream",
     "text": [
      "lameelagos\n"
     ]
    },
    {
     "data": {
      "text/plain": [
       "'lameelagos'"
      ]
     },
     "execution_count": 58,
     "metadata": {},
     "output_type": "execute_result"
    }
   ],
   "source": [
    "new_function(\"lamee\", \"lagos\")"
   ]
  },
  {
   "cell_type": "code",
   "execution_count": 52,
   "id": "b5d66891",
   "metadata": {},
   "outputs": [],
   "source": [
    "#if i wanna do a function that will concatenate lamee and berlin all the time.. so i'll do a def and create a function for it."
   ]
  },
  {
   "cell_type": "code",
   "execution_count": 94,
   "id": "68009388",
   "metadata": {},
   "outputs": [
    {
     "data": {
      "text/plain": [
       "('h', 'e', 'l', 'l', 'o')"
      ]
     },
     "execution_count": 94,
     "metadata": {},
     "output_type": "execute_result"
    }
   ],
   "source": [
    "tuple((\"hello\"))"
   ]
  },
  {
   "cell_type": "code",
   "execution_count": 76,
   "id": "b34a77e2",
   "metadata": {},
   "outputs": [
    {
     "data": {
      "text/plain": [
       "tuple"
      ]
     },
     "execution_count": 76,
     "metadata": {},
     "output_type": "execute_result"
    }
   ],
   "source": [
    "type(some_this )"
   ]
  },
  {
   "cell_type": "code",
   "execution_count": 84,
   "id": "5618e745",
   "metadata": {},
   "outputs": [],
   "source": [
    "some = (1, 2, 3, 4, 3, 'my own')"
   ]
  },
  {
   "cell_type": "code",
   "execution_count": 85,
   "id": "aa45e91d",
   "metadata": {},
   "outputs": [
    {
     "data": {
      "text/plain": [
       "(1, 3, 3)"
      ]
     },
     "execution_count": 85,
     "metadata": {},
     "output_type": "execute_result"
    }
   ],
   "source": [
    "some[::2]"
   ]
  },
  {
   "cell_type": "code",
   "execution_count": 81,
   "id": "be869f10",
   "metadata": {},
   "outputs": [
    {
     "data": {
      "text/plain": [
       "(1, 2, 3, 4, 3, 'my own', 'my name', 'her name')"
      ]
     },
     "execution_count": 81,
     "metadata": {},
     "output_type": "execute_result"
    }
   ],
   "source": [
    "some + (\"my name\", \"her name\")"
   ]
  },
  {
   "cell_type": "code",
   "execution_count": 86,
   "id": "d64047c1",
   "metadata": {},
   "outputs": [
    {
     "data": {
      "text/plain": [
       "(1, 2, 3, 4, 3, 'my own', 1, 2, 3, 4, 3, 'my own', 1, 2, 3, 4, 3, 'my own')"
      ]
     },
     "execution_count": 86,
     "metadata": {},
     "output_type": "execute_result"
    }
   ],
   "source": [
    "some * 3"
   ]
  },
  {
   "cell_type": "code",
   "execution_count": 88,
   "id": "63ec1ae0",
   "metadata": {},
   "outputs": [
    {
     "data": {
      "text/plain": [
       "5"
      ]
     },
     "execution_count": 88,
     "metadata": {},
     "output_type": "execute_result"
    }
   ],
   "source": [
    "some.index(\"my own\")"
   ]
  },
  {
   "cell_type": "code",
   "execution_count": 90,
   "id": "df5338dc",
   "metadata": {},
   "outputs": [
    {
     "data": {
      "text/plain": [
       "2"
      ]
     },
     "execution_count": 90,
     "metadata": {},
     "output_type": "execute_result"
    }
   ],
   "source": [
    "some.count(3)"
   ]
  },
  {
   "cell_type": "code",
   "execution_count": 95,
   "id": "0ed5fac8",
   "metadata": {},
   "outputs": [
    {
     "data": {
      "text/plain": [
       "[1, 2, 3, 4, 3, 'my own']"
      ]
     },
     "execution_count": 95,
     "metadata": {},
     "output_type": "execute_result"
    }
   ],
   "source": [
    "list(some)"
   ]
  },
  {
   "cell_type": "code",
   "execution_count": 96,
   "id": "8e1be712",
   "metadata": {},
   "outputs": [],
   "source": [
    "make_some_list = list(some)"
   ]
  },
  {
   "cell_type": "code",
   "execution_count": 97,
   "id": "94cb0752",
   "metadata": {},
   "outputs": [
    {
     "data": {
      "text/plain": [
       "[1, 2, 3, 4, 3, 'my own']"
      ]
     },
     "execution_count": 97,
     "metadata": {},
     "output_type": "execute_result"
    }
   ],
   "source": [
    "make_some_list"
   ]
  },
  {
   "cell_type": "code",
   "execution_count": 98,
   "id": "483abb9c",
   "metadata": {},
   "outputs": [
    {
     "data": {
      "text/plain": [
       "(1, 2, 3, 4, 3, 'my own')"
      ]
     },
     "execution_count": 98,
     "metadata": {},
     "output_type": "execute_result"
    }
   ],
   "source": [
    "some"
   ]
  },
  {
   "cell_type": "code",
   "execution_count": 105,
   "id": "4952cbcd",
   "metadata": {},
   "outputs": [
    {
     "data": {
      "text/plain": [
       "(0, 1, 2, 3, 4)"
      ]
     },
     "execution_count": 105,
     "metadata": {},
     "output_type": "execute_result"
    }
   ],
   "source": [
    "tuple((i for i in range(5)))"
   ]
  },
  {
   "cell_type": "code",
   "execution_count": null,
   "id": "7f279a18",
   "metadata": {},
   "outputs": [],
   "source": [
    "array = []\n",
    "for every in range(10):\n",
    "    array.append(every)\n",
    "    print(array)"
   ]
  },
  {
   "cell_type": "code",
   "execution_count": 115,
   "id": "d27f6a66",
   "metadata": {},
   "outputs": [
    {
     "name": "stdout",
     "output_type": "stream",
     "text": [
      "three\n"
     ]
    }
   ],
   "source": [
    "import random\n",
    "def main(any):\n",
    "    if any == 1:\n",
    "        return \"one\"\n",
    "    elif any == 2:\n",
    "        return \" you Assign me to two\"\n",
    "    elif any == 3:\n",
    "        return \"three\"\n",
    "    elif any == 4:\n",
    "        return \"four\"\n",
    "    elif any == 5:\n",
    "        return \"five\"\n",
    "s = random.randint(1, 5)\n",
    "assign = main(s)\n",
    "print(assign)\n",
    "\n",
    "print(main(random.randint(1, 5)))\n",
    "\n",
    "\n"
   ]
  },
  {
   "cell_type": "code",
   "execution_count": 125,
   "id": "70832454",
   "metadata": {},
   "outputs": [
    {
     "name": "stdout",
     "output_type": "stream",
     "text": [
      "my name is lamee lamoo you\n"
     ]
    }
   ],
   "source": [
    "print(\"my name is\", end=\" \")\n",
    "print(\"lamee\", end= \" \")\n",
    "print(\"lamoo\", end= \" \")\n",
    "print('you')"
   ]
  },
  {
   "cell_type": "code",
   "execution_count": 122,
   "id": "3ae6056b",
   "metadata": {},
   "outputs": [
    {
     "name": "stdout",
     "output_type": "stream",
     "text": [
      "cat,dogs,chicken\n"
     ]
    }
   ],
   "source": [
    "print(\"cat\", \"dogs\", \"chicken\", sep= ',')"
   ]
  },
  {
   "cell_type": "code",
   "execution_count": 132,
   "id": "06fcf4b6",
   "metadata": {},
   "outputs": [],
   "source": [
    "rates = {}\n",
    "rates['EURUSD'] = 1.01\n",
    "rates['EURGBP'] = 0.85"
   ]
  },
  {
   "cell_type": "code",
   "execution_count": 133,
   "id": "0eb05d21",
   "metadata": {},
   "outputs": [
    {
     "data": {
      "text/plain": [
       "{'EURUSD': 1.01, 'EURGBP': 0.85}"
      ]
     },
     "execution_count": 133,
     "metadata": {},
     "output_type": "execute_result"
    }
   ],
   "source": [
    "rates\n"
   ]
  },
  {
   "cell_type": "code",
   "execution_count": 150,
   "id": "2ddf7854",
   "metadata": {},
   "outputs": [
    {
     "data": {
      "text/plain": [
       "dict_keys(['EURUSO', 'EURGPP'])"
      ]
     },
     "execution_count": 150,
     "metadata": {},
     "output_type": "execute_result"
    }
   ],
   "source": [
    "rate.keys()"
   ]
  },
  {
   "cell_type": "code",
   "execution_count": 143,
   "id": "ca8d49b6",
   "metadata": {},
   "outputs": [],
   "source": [
    "rate = {\"EURUSDD\" : 1.01, \"EURGPP\": 0.85} "
   ]
  },
  {
   "cell_type": "code",
   "execution_count": 151,
   "id": "45cfbc58",
   "metadata": {},
   "outputs": [
    {
     "data": {
      "text/plain": [
       "{'EURUSO': 1.01, 'EURGPP': 0.85}"
      ]
     },
     "execution_count": 151,
     "metadata": {},
     "output_type": "execute_result"
    }
   ],
   "source": [
    "rate"
   ]
  },
  {
   "cell_type": "code",
   "execution_count": 152,
   "id": "63077b88",
   "metadata": {},
   "outputs": [
    {
     "data": {
      "text/plain": [
       "101.0"
      ]
     },
     "execution_count": 152,
     "metadata": {},
     "output_type": "execute_result"
    }
   ],
   "source": [
    "100 * 1.01"
   ]
  },
  {
   "cell_type": "code",
   "execution_count": 258,
   "id": "576bb4aa",
   "metadata": {},
   "outputs": [],
   "source": [
    "def som(*args):\n",
    "    number = []\n",
    "    string = []\n",
    "    lst = []\n",
    "    flt = []\n",
    "    for every in args:\n",
    "        if type(every) == int:\n",
    "            number.append(every)\n",
    "        elif type(every) == str:\n",
    "            string.append(every)\n",
    "        elif type(every) == list:\n",
    "            lst.append(every)\n",
    "        elif type(every) == float:\n",
    "            flt.append(every)\n",
    "    return number, string, lst, flt "
   ]
  },
  {
   "cell_type": "code",
   "execution_count": 259,
   "id": "5eed8929",
   "metadata": {},
   "outputs": [
    {
     "data": {
      "text/plain": [
       "([1, 6, 4, 8], ['my girl', 'toye'], [[1, 3, 6]], [2.6, 7.7])"
      ]
     },
     "execution_count": 259,
     "metadata": {},
     "output_type": "execute_result"
    }
   ],
   "source": [
    "som(1, [1,3,6], 6, \"my girl\", 4, \"toye\", 2.6, 8, 7.7 )"
   ]
  },
  {
   "cell_type": "code",
   "execution_count": null,
   "id": "4c70f9e4",
   "metadata": {},
   "outputs": [],
   "source": []
  },
  {
   "cell_type": "code",
   "execution_count": 178,
   "id": "d44f8b7e",
   "metadata": {},
   "outputs": [],
   "source": [
    "def check(*args):\n",
    "    for every in args[1], args[3]:\n",
    "        return every\n",
    "        "
   ]
  },
  {
   "cell_type": "code",
   "execution_count": 179,
   "id": "25b478fc",
   "metadata": {},
   "outputs": [
    {
     "data": {
      "text/plain": [
       "3"
      ]
     },
     "execution_count": 179,
     "metadata": {},
     "output_type": "execute_result"
    }
   ],
   "source": [
    "check(1, 3, 5, 7)"
   ]
  },
  {
   "cell_type": "code",
   "execution_count": 181,
   "id": "936e3994",
   "metadata": {},
   "outputs": [],
   "source": [
    "def check(*args):\n",
    "    return args[1], args[3]"
   ]
  },
  {
   "cell_type": "code",
   "execution_count": 182,
   "id": "45155b35",
   "metadata": {},
   "outputs": [
    {
     "data": {
      "text/plain": [
       "(3, 7)"
      ]
     },
     "execution_count": 182,
     "metadata": {},
     "output_type": "execute_result"
    }
   ],
   "source": [
    "check(1, 3, 5, 7)"
   ]
  },
  {
   "cell_type": "code",
   "execution_count": 190,
   "id": "76c67a51",
   "metadata": {},
   "outputs": [],
   "source": [
    "def check(*args):\n",
    "    for every in args:\n",
    "        return sum(args) \n",
    "\n",
    "\n"
   ]
  },
  {
   "cell_type": "code",
   "execution_count": 191,
   "id": "f556fb99",
   "metadata": {},
   "outputs": [
    {
     "data": {
      "text/plain": [
       "16"
      ]
     },
     "execution_count": 191,
     "metadata": {},
     "output_type": "execute_result"
    }
   ],
   "source": [
    "check(1, 3, 5, 7)"
   ]
  },
  {
   "cell_type": "code",
   "execution_count": 286,
   "id": "542a48a6",
   "metadata": {},
   "outputs": [],
   "source": [
    "def jeck(**args):\n",
    "    for every in args: \n",
    "        #print(every)\n",
    "        return every\n",
    "        #return args.items()"
   ]
  },
  {
   "cell_type": "code",
   "execution_count": 287,
   "id": "4509d8ed",
   "metadata": {},
   "outputs": [
    {
     "data": {
      "text/plain": [
       "'a'"
      ]
     },
     "execution_count": 287,
     "metadata": {},
     "output_type": "execute_result"
    }
   ],
   "source": [
    "jeck(a= \"lamee\", b = \"baby\")"
   ]
  },
  {
   "cell_type": "code",
   "execution_count": 250,
   "id": "a26057a9",
   "metadata": {},
   "outputs": [],
   "source": [
    "#volume of a cube l, w, d\n",
    "def check(lenght, width, depth, unity =\"cm\"):\n",
    "    if unity == \"cm\":\n",
    "        return lenght * width * depth \n",
    "    elif unity == \"mm\":\n",
    "        return lenght * width * depth * 100\n",
    "    elif unity == \"km\":\n",
    "        return lenght * width * depth / 100\n",
    "    else:\n",
    "        return lenght + width\n",
    "    \n",
    "        \n"
   ]
  },
  {
   "cell_type": "code",
   "execution_count": 251,
   "id": "bcc2fcf6",
   "metadata": {},
   "outputs": [
    {
     "data": {
      "text/plain": [
       "750000"
      ]
     },
     "execution_count": 251,
     "metadata": {},
     "output_type": "execute_result"
    }
   ],
   "source": [
    "check(150, 100, 50)"
   ]
  },
  {
   "cell_type": "code",
   "execution_count": null,
   "id": "9cdd1580",
   "metadata": {},
   "outputs": [],
   "source": []
  },
  {
   "cell_type": "code",
   "execution_count": null,
   "id": "3064aefa",
   "metadata": {},
   "outputs": [],
   "source": []
  }
 ],
 "metadata": {
  "kernelspec": {
   "display_name": "Python 3 (ipykernel)",
   "language": "python",
   "name": "python3"
  },
  "language_info": {
   "codemirror_mode": {
    "name": "ipython",
    "version": 3
   },
   "file_extension": ".py",
   "mimetype": "text/x-python",
   "name": "python",
   "nbconvert_exporter": "python",
   "pygments_lexer": "ipython3",
   "version": "3.9.13"
  }
 },
 "nbformat": 4,
 "nbformat_minor": 5
}
