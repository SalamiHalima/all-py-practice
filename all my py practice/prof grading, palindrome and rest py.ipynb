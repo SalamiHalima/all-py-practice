{
 "cells": [
  {
   "cell_type": "code",
   "execution_count": null,
   "id": "2bc7e7b0",
   "metadata": {},
   "outputs": [],
   "source": [
    "l = '*'\n",
    "while l == '*':\n",
    "    if l in range(4):\n",
    "        l +=1 \n",
    "    else: \n",
    "        False\n",
    "if l:\n",
    "    return l\n",
    "else: \n",
    "    print('no!')\n"
   ]
  },
  {
   "cell_type": "code",
   "execution_count": 10,
   "id": "32dcc121",
   "metadata": {},
   "outputs": [
    {
     "name": "stdout",
     "output_type": "stream",
     "text": [
      "\n",
      "*\n",
      "**\n",
      "***\n",
      "****\n",
      "*****\n",
      "******\n"
     ]
    }
   ],
   "source": [
    "#ex1\n",
    "i = 0\n",
    "while i <= 6:\n",
    "    print(\"*\" * i)\n",
    "    i+=1"
   ]
  },
  {
   "cell_type": "code",
   "execution_count": 12,
   "id": "3232f1f7",
   "metadata": {
    "scrolled": true
   },
   "outputs": [
    {
     "name": "stdout",
     "output_type": "stream",
     "text": [
      "*\n",
      "***\n",
      "*****\n"
     ]
    }
   ],
   "source": [
    "ex2\n",
    "for i in range(1, 6):\n",
    "    if i % 2 == 0:\n",
    "        continue\n",
    "    else:\n",
    "         print(\"*\" * i)"
   ]
  },
  {
   "cell_type": "code",
   "execution_count": 14,
   "id": "03bfef3e",
   "metadata": {},
   "outputs": [
    {
     "name": "stdout",
     "output_type": "stream",
     "text": [
      "coffee break\n"
     ]
    }
   ],
   "source": [
    "ex 3\n",
    "todo = [\"exercise1\", \"exercise2\", \"exercise3\",\"coffee break\", \"exercise4\",\"exercise5\",\"exercise6\"]\n",
    "for x in todo:\n",
    "    if x.upper() == \"COFFEE BREAK\":\n",
    "        print(x)\n",
    "        break\n"
   ]
  },
  {
   "cell_type": "code",
   "execution_count": 19,
   "id": "5ed27ba6",
   "metadata": {},
   "outputs": [
    {
     "name": "stdout",
     "output_type": "stream",
     "text": [
      "enter clause: baby daddy mommy child\n",
      "bxby dxddy mxmmy chxld\n"
     ]
    }
   ],
   "source": [
    "def words(clause):\n",
    "    change = \"\"\n",
    "    for every in clause:\n",
    "        if every.lower() in (\"aeiou\"):\n",
    "            if every.isupper():\n",
    "                change = change + \"X\"\n",
    "            else: change = change + \"x\"\n",
    "        else:\n",
    "             change = change + every\n",
    "    return change\n",
    "print(words(input(\"enter clause: \")))\n",
    "            "
   ]
  },
  {
   "cell_type": "code",
   "execution_count": 25,
   "id": "050a94cf",
   "metadata": {},
   "outputs": [
    {
     "name": "stdout",
     "output_type": "stream",
     "text": [
      "girl\n"
     ]
    }
   ],
   "source": [
    "'''\n",
    "oewjishweuishnj\n",
    "kjisjkoi\n",
    "eljsdkjesnes\n",
    "sdjkchsudkjjnsk\n",
    "'''\n",
    "print('girl')"
   ]
  },
  {
   "cell_type": "code",
   "execution_count": 43,
   "id": "7a2df1db",
   "metadata": {},
   "outputs": [
    {
     "name": "stdout",
     "output_type": "stream",
     "text": [
      "12\n",
      "here it is odd\n",
      "10\n",
      "here it is odd\n",
      "8\n",
      "here it is odd\n",
      "6\n",
      "here it is odd\n"
     ]
    }
   ],
   "source": [
    "# given a number print every odd number from that number to zero. given as 12 \n",
    "g = 12\n",
    "while g >= 0:\n",
    "    if g % 2 == 0:\n",
    "        print(g)\n",
    "        g = g - 1\n",
    "        continue\n",
    "    g = g - 1\n",
    "    print(\"here it is odd\")\n",
    "    if g <= 4:\n",
    "        break\n",
    "    "
   ]
  },
  {
   "cell_type": "code",
   "execution_count": 47,
   "id": "40a98185",
   "metadata": {},
   "outputs": [
    {
     "name": "stdout",
     "output_type": "stream",
     "text": [
      "enter student name: lamee\n",
      "enter grade: 9\n",
      "welldone lamee, you grade is excellent\n",
      "enter student name: Aleema\n",
      "enter grade: 7\n",
      "welldone Aleema, you grade is very good\n",
      "enter student name: Annie\n",
      "enter grade: 3\n",
      "welldone Annie, you grade is you need to improve\n",
      "enter student name: ayanfe\n",
      "enter grade: 1\n",
      "welldone ayanfe, you grade is you need to improve\n",
      "enter student name: salami\n",
      " weldone guys, you all did False\n"
     ]
    }
   ],
   "source": [
    "#info, prof gradng of students\n",
    "while True:\n",
    "    student_name = input(\"enter student name: \")\n",
    "    if student_name == \"salami\":\n",
    "        break\n",
    "    grade = int(input(\"enter grade: \"))\n",
    "    comment = \"excellent\" if grade > 8 else \"very good\" if grade > 6 else \"good\" if grade > 4 else \"you need to improve\"\n",
    "    print(f'welldone {student_name}, you grade is {comment}')\n",
    "print(f' weldone guys, you all did {grade > 8}')"
   ]
  },
  {
   "cell_type": "code",
   "execution_count": null,
   "id": "fb7f3366",
   "metadata": {},
   "outputs": [],
   "source": [
    "#how do we check if a number is prime or not using while and if statement\n",
    "number = 240\n",
    "v = 2\n",
    "while v <= number ** (0.5):\n",
    "    print(v)\n",
    "    if v % 2 == 0:\n",
    "        print(f'{number} is not a prime number')\n",
    "    v = v + 1\n",
    "else:\n",
    "    print(\"not sure\")"
   ]
  },
  {
   "cell_type": "code",
   "execution_count": null,
   "id": "7dea5e41",
   "metadata": {},
   "outputs": [],
   "source": [
    "if every in this:\n",
    "    do sth\n",
    "    if test1:\n",
    "        do sth\n",
    "        break\n",
    "    if test2:\n",
    "        continue\n",
    "else:\n",
    "    do sth"
   ]
  },
  {
   "cell_type": "code",
   "execution_count": null,
   "id": "05ee5b95",
   "metadata": {},
   "outputs": [],
   "source": [
    "over_do = \" \"\n",
    "if every in \"my girl lamee\":\n",
    "    print(over_do + every)\n",
    "    over_do = every"
   ]
  },
  {
   "cell_type": "code",
   "execution_count": null,
   "id": "cfe0731a",
   "metadata": {},
   "outputs": [],
   "source": [
    "count_fig = 0\n",
    "for f in [2,3,4,6,9,10]:\n",
    "    for l in [4,6,8,9]:\n",
    "        print(f,l)\n",
    "        count_fig += 1"
   ]
  },
  {
   "cell_type": "code",
   "execution_count": 4,
   "id": "c3dd85db",
   "metadata": {},
   "outputs": [
    {
     "name": "stdout",
     "output_type": "stream",
     "text": [
      "2\n",
      "3\n",
      "6\n"
     ]
    }
   ],
   "source": [
    "name = (\"ok\", \"de\", \"to\", \"ife\")\n",
    "grade = (2.4, 3.1, 6.2)\n",
    "for every in map (int, grade):\n",
    "    print(every)"
   ]
  },
  {
   "cell_type": "code",
   "execution_count": 10,
   "id": "a4a8d7b2",
   "metadata": {},
   "outputs": [],
   "source": [
    "for e, every in enumerate(name):\n",
    "    if e < 10:\n",
    "        break\n",
    "    if \"t\" in every:\n",
    "        break\n",
    "    print(e, every)"
   ]
  },
  {
   "cell_type": "code",
   "execution_count": 29,
   "id": "f0d472d9",
   "metadata": {},
   "outputs": [
    {
     "name": "stdout",
     "output_type": "stream",
     "text": [
      "m  m\n",
      "a  ma\n",
      "d  mad\n",
      "a  mada\n",
      "m  madam\n"
     ]
    }
   ],
   "source": [
    "palin = \"madam\"\n",
    "attach = \" \"\n",
    "for every in reversed(palin):\n",
    "    attach += every\n",
    "    print(every, attach)\n",
    "    if palin.lower() == attach.lower():\n",
    "        print(\"this is a palin\")\n",
    "\n",
    "else: \n",
    "    print(\"it is not palin\")\n",
    "    "
   ]
  },
  {
   "cell_type": "code",
   "execution_count": null,
   "id": "f538a8fc",
   "metadata": {},
   "outputs": [],
   "source": []
  }
 ],
 "metadata": {
  "kernelspec": {
   "display_name": "Python 3 (ipykernel)",
   "language": "python",
   "name": "python3"
  },
  "language_info": {
   "codemirror_mode": {
    "name": "ipython",
    "version": 3
   },
   "file_extension": ".py",
   "mimetype": "text/x-python",
   "name": "python",
   "nbconvert_exporter": "python",
   "pygments_lexer": "ipython3",
   "version": "3.9.13"
  }
 },
 "nbformat": 4,
 "nbformat_minor": 5
}
