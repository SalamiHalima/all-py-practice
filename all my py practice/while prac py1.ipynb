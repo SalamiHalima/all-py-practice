{
 "cells": [
  {
   "cell_type": "code",
   "execution_count": 10,
   "id": "473da584",
   "metadata": {},
   "outputs": [
    {
     "name": "stdout",
     "output_type": "stream",
     "text": [
      "2\n",
      "240 is not a prime number\n",
      "3\n",
      "4\n",
      "240 is not a prime number\n",
      "5\n",
      "6\n",
      "240 is not a prime number\n",
      "7\n",
      "8\n",
      "240 is not a prime number\n",
      "9\n",
      "10\n",
      "240 is not a prime number\n",
      "11\n",
      "12\n",
      "240 is not a prime number\n",
      "13\n",
      "14\n",
      "240 is not a prime number\n",
      "15\n",
      "not sure\n"
     ]
    }
   ],
   "source": [
    "#how do we check if a number is prime or not using while and if statement\n",
    "number = 240\n",
    "v = 2\n",
    "while v <= number ** (0.5):\n",
    "    print(v)\n",
    "    if v % 2 == 0:\n",
    "        print(f'{number} is not a prime number')\n",
    "    v = v + 1\n",
    "else:\n",
    "    print(\"not sure\")"
   ]
  },
  {
   "cell_type": "code",
   "execution_count": 25,
   "id": "b7a4e64f",
   "metadata": {},
   "outputs": [
    {
     "name": "stdout",
     "output_type": "stream",
     "text": [
      "om\n",
      "my\n",
      "y \n",
      " g\n",
      "gi\n",
      "ir\n",
      "rl\n",
      "l \n",
      " l\n",
      "la\n",
      "am\n",
      "me\n",
      "ee\n"
     ]
    }
   ],
   "source": [
    "over_do = \"o\"\n",
    "for every in \"my girl lamee\":\n",
    "    print(over_do + every)\n",
    "    over_do = every"
   ]
  },
  {
   "cell_type": "code",
   "execution_count": 26,
   "id": "34516b2c",
   "metadata": {},
   "outputs": [],
   "source": []
  },
  {
   "cell_type": "code",
   "execution_count": 33,
   "id": "8f47ea88",
   "metadata": {},
   "outputs": [
    {
     "name": "stdout",
     "output_type": "stream",
     "text": [
      "6\n",
      "8\n",
      "10\n",
      "11\n",
      "7\n",
      "9\n",
      "11\n",
      "12\n",
      "8\n",
      "10\n",
      "12\n",
      "13\n",
      "10\n",
      "12\n",
      "14\n",
      "15\n",
      "13\n",
      "15\n",
      "17\n",
      "18\n",
      "14\n",
      "16\n",
      "18\n",
      "19\n"
     ]
    }
   ],
   "source": [
    "count_fig = 0\n",
    "for f in [2,3,4,6,9,10]:\n",
    "    for l in [4,6,8,9]:\n",
    "        print(f + l)\n"
   ]
  },
  {
   "cell_type": "code",
   "execution_count": 31,
   "id": "30846939",
   "metadata": {},
   "outputs": [
    {
     "name": "stdout",
     "output_type": "stream",
     "text": [
      "2 4\n",
      "3 6\n",
      "4 8\n",
      "6 9\n",
      "9 3\n",
      "10 2\n"
     ]
    }
   ],
   "source": [
    "for f, n in zip([2,3,4,6,9,10], [4,6,8,9,3,2]):\n",
    "    print(f,n)"
   ]
  },
  {
   "cell_type": "code",
   "execution_count": 3,
   "id": "1b2904cb",
   "metadata": {},
   "outputs": [
    {
     "name": "stdout",
     "output_type": "stream",
     "text": [
      "0 b\n",
      "1 a\n",
      "2 b\n",
      "3 y\n",
      "4  \n",
      "5 l\n",
      "6 a\n",
      "7 m\n",
      "8 e\n",
      "9 e\n"
     ]
    }
   ],
   "source": [
    "str = \"baby lamee\"\n",
    "for every in range(len(str)):\n",
    "        print(every, str[every])\n",
    "    "
   ]
  },
  {
   "cell_type": "code",
   "execution_count": 2,
   "id": "a429d5d9",
   "metadata": {},
   "outputs": [
    {
     "name": "stdout",
     "output_type": "stream",
     "text": [
      "b p\n",
      "a r\n",
      "b e\n",
      "y t\n",
      "  t\n",
      "l y\n",
      "a  \n",
      "m n\n",
      "e i\n",
      "e c\n"
     ]
    }
   ],
   "source": [
    "main = \"baby lamee\"\n",
    "oda = \"pretty nice\"\n",
    "for m, o in zip(main, oda):\n",
    "    print(m, o)"
   ]
  },
  {
   "cell_type": "code",
   "execution_count": null,
   "id": "31539a31",
   "metadata": {},
   "outputs": [],
   "source": [
    "ob = (2, 3, 4)\n",
    "for every in range(ob):\n",
    "    print(every)"
   ]
  },
  {
   "cell_type": "code",
   "execution_count": null,
   "id": "6330427e",
   "metadata": {},
   "outputs": [],
   "source": [
    "name = (\"ok\", \"de\", \"to\")\n",
    "grade = (2.4, 3.1, 6.2)\n",
    "for every in map (int, grade):\n",
    "    print(every)"
   ]
  },
  {
   "cell_type": "code",
   "execution_count": null,
   "id": "4b2f2fe2",
   "metadata": {},
   "outputs": [],
   "source": [
    "for n, every in enumerate(name):\n",
    "    if n < 10:\n",
    "        break\n",
    "    if \"t\" in name:\n",
    "        break\n",
    "    print(n, every)"
   ]
  },
  {
   "cell_type": "code",
   "execution_count": null,
   "id": "1a4b5605",
   "metadata": {},
   "outputs": [],
   "source": [
    "str = \"here you are\"\n",
    "reverse_it = \" \"\n",
    "for every in reverse(str):\n",
    "    reverse_it += every\n",
    "    print(every, reverse_it)"
   ]
  },
  {
   "cell_type": "code",
   "execution_count": null,
   "id": "0e0f69cb",
   "metadata": {},
   "outputs": [],
   "source": []
  }
 ],
 "metadata": {
  "kernelspec": {
   "display_name": "Python 3 (ipykernel)",
   "language": "python",
   "name": "python3"
  },
  "language_info": {
   "codemirror_mode": {
    "name": "ipython",
    "version": 3
   },
   "file_extension": ".py",
   "mimetype": "text/x-python",
   "name": "python",
   "nbconvert_exporter": "python",
   "pygments_lexer": "ipython3",
   "version": "3.9.13"
  }
 },
 "nbformat": 4,
 "nbformat_minor": 5
}
