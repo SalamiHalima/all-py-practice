{
 "cells": [
  {
   "cell_type": "code",
   "execution_count": null,
   "id": "7ad71391",
   "metadata": {},
   "outputs": [],
   "source": [
    "name = (\"ok\", \"de\", \"to\")\n",
    "grade = (2.4, 3.1, 6.2)\n",
    "for every in map (int, grade):\n",
    "    print(every)\n"
   ]
  },
  {
   "cell_type": "code",
   "execution_count": null,
   "id": "1d10e6ec",
   "metadata": {},
   "outputs": [],
   "source": [
    "for n, every in enumerate(name):\n",
    "    if n < 10:\n",
    "        break\n",
    "    if \"t\" in name:\n",
    "        break\n",
    "    print(n, every)"
   ]
  },
  {
   "cell_type": "code",
   "execution_count": null,
   "id": "cdb3b1eb",
   "metadata": {},
   "outputs": [],
   "source": [
    "name = (\"ok\", \"de\", \"to\")\n",
    "for n, every in enumerate(name):\n",
    "    if n < 10:\n",
    "        break\n",
    "    if \"t\" in name:\n",
    "        break\n",
    "    print(n, every)"
   ]
  },
  {
   "cell_type": "code",
   "execution_count": null,
   "id": "6ec8f4a0",
   "metadata": {},
   "outputs": [],
   "source": []
  }
 ],
 "metadata": {
  "kernelspec": {
   "display_name": "Python 3 (ipykernel)",
   "language": "python",
   "name": "python3"
  },
  "language_info": {
   "codemirror_mode": {
    "name": "ipython",
    "version": 3
   },
   "file_extension": ".py",
   "mimetype": "text/x-python",
   "name": "python",
   "nbconvert_exporter": "python",
   "pygments_lexer": "ipython3",
   "version": "3.9.13"
  }
 },
 "nbformat": 4,
 "nbformat_minor": 5
}
